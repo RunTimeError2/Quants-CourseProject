{
 "cells": [
  {
   "cell_type": "markdown",
   "metadata": {},
   "source": [
    "# 新手教程—财务数据\n",
    "\n",
    "### 我们以查询数据库的方式向您提供了财务数据接口, 调用 get_fundamentals, 传入您要筛选的条件即可. 我们提供了四类财务数据, 分别存放到如下四个表中: 市值表, 利润表, 现金表, 负债表"
   ]
  },
  {
   "cell_type": "code",
   "execution_count": 3,
   "metadata": {},
   "outputs": [],
   "source": [
    "#导入需要的程序包\n",
    "import pandas as pd\n",
    "import seaborn as sns\n",
    "\n",
    "from jqdatasdk import *\n",
    "\n",
    "# auth('ID','Password')\n",
    "\n",
    "auth('13811550483','security421S')\n",
    "pd.set_option('display.max_rows', 10)"
   ]
  },
  {
   "cell_type": "code",
   "execution_count": 4,
   "metadata": {},
   "outputs": [],
   "source": [
    "# 使用?快速获取帮助\n",
    "\n",
    "# 获取财务数据接口帮助\n",
    "get_fundamentals?\n",
    "\n",
    "# 注释掉下面的行来查询各个API的介绍\n",
    "# query?\n",
    "\n",
    "# # 各个表的介绍\n",
    "# valuation?\n",
    "# income?\n",
    "# balance?\n",
    "# cash_flow?\n",
    "\n",
    "# # 各个表的字段的介绍示例\n",
    "# valuation.pe_ratio?\n",
    "# income.total_operating_revenue?"
   ]
  },
  {
   "cell_type": "code",
   "execution_count": null,
   "metadata": {},
   "outputs": [],
   "source": []
  },
  {
   "cell_type": "code",
   "execution_count": 5,
   "metadata": {},
   "outputs": [
    {
     "data": {
      "text/html": "<div>\n<style scoped>\n    .dataframe tbody tr th:only-of-type {\n        vertical-align: middle;\n    }\n\n    .dataframe tbody tr th {\n        vertical-align: top;\n    }\n\n    .dataframe thead th {\n        text-align: right;\n    }\n</style>\n<table border=\"1\" class=\"dataframe\">\n  <thead>\n    <tr style=\"text-align: right;\">\n      <th></th>\n      <th>id</th>\n      <th>code</th>\n      <th>pe_ratio</th>\n      <th>turnover_ratio</th>\n      <th>pb_ratio</th>\n      <th>ps_ratio</th>\n      <th>pcf_ratio</th>\n      <th>capitalization</th>\n      <th>market_cap</th>\n      <th>circulating_cap</th>\n      <th>circulating_market_cap</th>\n      <th>day</th>\n      <th>pe_ratio_lyr</th>\n    </tr>\n  </thead>\n  <tbody>\n    <tr>\n      <th>0</th>\n      <td>39540718</td>\n      <td>000001.XSHE</td>\n      <td>12.4174</td>\n      <td>0.4545</td>\n      <td>1.4313</td>\n      <td>2.6189</td>\n      <td>-5.6196</td>\n      <td>1940591.875</td>\n      <td>3333.9368</td>\n      <td>1940575.25</td>\n      <td>3333.9082</td>\n      <td>2019-10-15</td>\n      <td>13.4335</td>\n    </tr>\n  </tbody>\n</table>\n</div>",
      "text/plain": "         id         code  pe_ratio  turnover_ratio  pb_ratio  ps_ratio  \\\n0  39540718  000001.XSHE   12.4174          0.4545    1.4313    2.6189   \n\n   pcf_ratio  capitalization  market_cap  circulating_cap  \\\n0    -5.6196     1940591.875   3333.9368       1940575.25   \n\n   circulating_market_cap         day  pe_ratio_lyr  \n0               3333.9082  2019-10-15       13.4335  "
     },
     "execution_count": 5,
     "metadata": {},
     "output_type": "execute_result"
    }
   ],
   "source": [
    "### 获取单只股票在某一日期的市值数据\n",
    "df = get_fundamentals(query(\n",
    "        valuation\n",
    "    ).filter(\n",
    "        valuation.code == '000001.XSHE'\n",
    "    ), date='2019-10-15')\n",
    "\n",
    "df"
   ]
  },
  {
   "cell_type": "code",
   "execution_count": 6,
   "metadata": {},
   "outputs": [
    {
     "data": {
      "text/plain": "3333.9368"
     },
     "execution_count": 6,
     "metadata": {},
     "output_type": "execute_result"
    }
   ],
   "source": [
    "# 取出总市值\n",
    "df['market_cap'][0]"
   ]
  },
  {
   "cell_type": "code",
   "execution_count": 7,
   "metadata": {},
   "outputs": [
    {
     "data": {
      "text/html": "<div>\n<style scoped>\n    .dataframe tbody tr th:only-of-type {\n        vertical-align: middle;\n    }\n\n    .dataframe tbody tr th {\n        vertical-align: top;\n    }\n\n    .dataframe thead th {\n        text-align: right;\n    }\n</style>\n<table border=\"1\" class=\"dataframe\">\n  <thead>\n    <tr style=\"text-align: right;\">\n      <th></th>\n      <th>id</th>\n      <th>code</th>\n      <th>pe_ratio</th>\n      <th>turnover_ratio</th>\n      <th>pb_ratio</th>\n      <th>ps_ratio</th>\n      <th>pcf_ratio</th>\n      <th>capitalization</th>\n      <th>market_cap</th>\n      <th>circulating_cap</th>\n      <th>...</th>\n      <th>income_tax_expense</th>\n      <th>net_profit</th>\n      <th>np_parent_company_owners</th>\n      <th>minority_profit</th>\n      <th>basic_eps</th>\n      <th>diluted_eps</th>\n      <th>other_composite_income</th>\n      <th>total_composite_income</th>\n      <th>ci_parent_company_owners</th>\n      <th>ci_minority_owners</th>\n    </tr>\n  </thead>\n  <tbody>\n    <tr>\n      <th>0</th>\n      <td>39540718</td>\n      <td>000001.XSHE</td>\n      <td>12.4174</td>\n      <td>0.4545</td>\n      <td>1.4313</td>\n      <td>2.6189</td>\n      <td>-5.6196</td>\n      <td>1940591.875</td>\n      <td>3333.9368</td>\n      <td>1940575.25</td>\n      <td>...</td>\n      <td>2.375000e+09</td>\n      <td>7.957000e+09</td>\n      <td>7.957000e+09</td>\n      <td>NaN</td>\n      <td>0.47</td>\n      <td>0.42</td>\n      <td>1.980000e+08</td>\n      <td>8.155000e+09</td>\n      <td>NaN</td>\n      <td>NaN</td>\n    </tr>\n    <tr>\n      <th>1</th>\n      <td>39542892</td>\n      <td>600000.XSHG</td>\n      <td>6.4628</td>\n      <td>0.2612</td>\n      <td>0.8301</td>\n      <td>2.0533</td>\n      <td>-7.3516</td>\n      <td>2935208.000</td>\n      <td>3842.1873</td>\n      <td>2810376.50</td>\n      <td>...</td>\n      <td>3.115000e+09</td>\n      <td>1.578600e+10</td>\n      <td>1.564700e+10</td>\n      <td>139000000.0</td>\n      <td>0.54</td>\n      <td>0.54</td>\n      <td>-1.205000e+09</td>\n      <td>1.458100e+10</td>\n      <td>1.444000e+10</td>\n      <td>141000000.0</td>\n    </tr>\n  </tbody>\n</table>\n<p>2 rows × 56 columns</p>\n</div>",
      "text/plain": "         id         code  pe_ratio  turnover_ratio  pb_ratio  ps_ratio  \\\n0  39540718  000001.XSHE   12.4174          0.4545    1.4313    2.6189   \n1  39542892  600000.XSHG    6.4628          0.2612    0.8301    2.0533   \n\n   pcf_ratio  capitalization  market_cap  circulating_cap  ...  \\\n0    -5.6196     1940591.875   3333.9368       1940575.25  ...   \n1    -7.3516     2935208.000   3842.1873       2810376.50  ...   \n\n   income_tax_expense    net_profit  np_parent_company_owners  \\\n0        2.375000e+09  7.957000e+09              7.957000e+09   \n1        3.115000e+09  1.578600e+10              1.564700e+10   \n\n   minority_profit basic_eps diluted_eps other_composite_income  \\\n0              NaN      0.47        0.42           1.980000e+08   \n1      139000000.0      0.54        0.54          -1.205000e+09   \n\n  total_composite_income  ci_parent_company_owners  ci_minority_owners  \n0           8.155000e+09                       NaN                 NaN  \n1           1.458100e+10              1.444000e+10         141000000.0  \n\n[2 rows x 56 columns]"
     },
     "execution_count": 7,
     "metadata": {},
     "output_type": "execute_result"
    }
   ],
   "source": [
    "### 获取多只股票在某一日期的市值, 利润\n",
    "df = get_fundamentals(query(\n",
    "        valuation, income\n",
    "    ).filter(\n",
    "        # 这里不能使用 in 操作, 要使用in_()函数\n",
    "        valuation.code.in_(['000001.XSHE', '600000.XSHG'])\n",
    "    ), date='2019-10-15')\n",
    "\n",
    "df"
   ]
  },
  {
   "cell_type": "code",
   "execution_count": 8,
   "metadata": {},
   "outputs": [
    {
     "data": {
      "text/html": "<div>\n<style scoped>\n    .dataframe tbody tr th:only-of-type {\n        vertical-align: middle;\n    }\n\n    .dataframe tbody tr th {\n        vertical-align: top;\n    }\n\n    .dataframe thead th {\n        text-align: right;\n    }\n</style>\n<table border=\"1\" class=\"dataframe\">\n  <thead>\n    <tr style=\"text-align: right;\">\n      <th></th>\n      <th>code</th>\n      <th>market_cap</th>\n      <th>pe_ratio</th>\n      <th>total_operating_revenue</th>\n    </tr>\n  </thead>\n  <tbody>\n    <tr>\n      <th>0</th>\n      <td>000001.XSHE</td>\n      <td>3333.9368</td>\n      <td>12.4174</td>\n      <td>3.535300e+10</td>\n    </tr>\n    <tr>\n      <th>1</th>\n      <td>600000.XSHG</td>\n      <td>3842.1873</td>\n      <td>6.4628</td>\n      <td>4.751500e+10</td>\n    </tr>\n  </tbody>\n</table>\n</div>",
      "text/plain": "          code  market_cap  pe_ratio  total_operating_revenue\n0  000001.XSHE   3333.9368   12.4174             3.535300e+10\n1  600000.XSHG   3842.1873    6.4628             4.751500e+10"
     },
     "execution_count": 8,
     "metadata": {},
     "output_type": "execute_result"
    }
   ],
   "source": [
    "# 只选择表里的某些字段\n",
    "### 获取多只股票在某一日期的市值, 利润, 现金流和负债数据\n",
    "df = get_fundamentals(query(\n",
    "        valuation.code, valuation.market_cap, valuation.pe_ratio, income.total_operating_revenue\n",
    "    ).filter(\n",
    "        # 这里不能使用 in 操作, 要使用in_()函数\n",
    "        valuation.code.in_(['000001.XSHE', '600000.XSHG'])\n",
    "    ), date='2019-10-15')\n",
    "\n",
    "df"
   ]
  },
  {
   "cell_type": "code",
   "execution_count": 16,
   "metadata": {
    "collapsed": false
   },
   "outputs": [
    {
     "data": {
      "text/html": [
       "<div>\n",
       "<table border=\"1\" class=\"dataframe\">\n",
       "  <thead>\n",
       "    <tr style=\"text-align: right;\">\n",
       "      <th></th>\n",
       "      <th>code</th>\n",
       "      <th>market_cap</th>\n",
       "      <th>pe_ratio</th>\n",
       "      <th>total_operating_revenue</th>\n",
       "    </tr>\n",
       "  </thead>\n",
       "  <tbody>\n",
       "    <tr>\n",
       "      <th>0</th>\n",
       "      <td>000001.XSHE</td>\n",
       "      <td>1598.2800</td>\n",
       "      <td>7.50</td>\n",
       "      <td>2.590400e+10</td>\n",
       "    </tr>\n",
       "    <tr>\n",
       "      <th>1</th>\n",
       "      <td>000002.XSHE</td>\n",
       "      <td>1493.9100</td>\n",
       "      <td>9.47</td>\n",
       "      <td>4.137246e+10</td>\n",
       "    </tr>\n",
       "    <tr>\n",
       "      <th>2</th>\n",
       "      <td>000333.XSHE</td>\n",
       "      <td>1173.9200</td>\n",
       "      <td>9.61</td>\n",
       "      <td>4.030065e+10</td>\n",
       "    </tr>\n",
       "    <tr>\n",
       "      <th>3</th>\n",
       "      <td>000651.XSHE</td>\n",
       "      <td>1049.7500</td>\n",
       "      <td>7.41</td>\n",
       "      <td>2.651671e+10</td>\n",
       "    </tr>\n",
       "    <tr>\n",
       "      <th>4</th>\n",
       "      <td>600000.XSHG</td>\n",
       "      <td>2965.8999</td>\n",
       "      <td>6.14</td>\n",
       "      <td>3.771000e+10</td>\n",
       "    </tr>\n",
       "    <tr>\n",
       "      <th>5</th>\n",
       "      <td>600016.XSHG</td>\n",
       "      <td>3137.7400</td>\n",
       "      <td>6.86</td>\n",
       "      <td>4.087200e+10</td>\n",
       "    </tr>\n",
       "    <tr>\n",
       "      <th>6</th>\n",
       "      <td>600030.XSHG</td>\n",
       "      <td>1904.7800</td>\n",
       "      <td>9.65</td>\n",
       "      <td>2.117836e+10</td>\n",
       "    </tr>\n",
       "    <tr>\n",
       "      <th>7</th>\n",
       "      <td>600036.XSHG</td>\n",
       "      <td>4625.3198</td>\n",
       "      <td>7.92</td>\n",
       "      <td>5.338800e+10</td>\n",
       "    </tr>\n",
       "    <tr>\n",
       "      <th>8</th>\n",
       "      <td>600104.XSHG</td>\n",
       "      <td>1959.2400</td>\n",
       "      <td>6.86</td>\n",
       "      <td>1.537495e+11</td>\n",
       "    </tr>\n",
       "    <tr>\n",
       "      <th>9</th>\n",
       "      <td>600606.XSHG</td>\n",
       "      <td>1844.6899</td>\n",
       "      <td>-243.86</td>\n",
       "      <td>8.609665e+10</td>\n",
       "    </tr>\n",
       "    <tr>\n",
       "      <th>10</th>\n",
       "      <td>601166.XSHG</td>\n",
       "      <td>2894.0500</td>\n",
       "      <td>5.86</td>\n",
       "      <td>3.805100e+10</td>\n",
       "    </tr>\n",
       "    <tr>\n",
       "      <th>11</th>\n",
       "      <td>601288.XSHG</td>\n",
       "      <td>10166.0596</td>\n",
       "      <td>5.66</td>\n",
       "      <td>1.347040e+11</td>\n",
       "    </tr>\n",
       "    <tr>\n",
       "      <th>12</th>\n",
       "      <td>601328.XSHG</td>\n",
       "      <td>4678.5498</td>\n",
       "      <td>7.05</td>\n",
       "      <td>4.731700e+10</td>\n",
       "    </tr>\n",
       "    <tr>\n",
       "      <th>13</th>\n",
       "      <td>601398.XSHG</td>\n",
       "      <td>16002.6396</td>\n",
       "      <td>5.78</td>\n",
       "      <td>1.750780e+11</td>\n",
       "    </tr>\n",
       "    <tr>\n",
       "      <th>14</th>\n",
       "      <td>601668.XSHG</td>\n",
       "      <td>1869.0000</td>\n",
       "      <td>7.63</td>\n",
       "      <td>2.199666e+11</td>\n",
       "    </tr>\n",
       "    <tr>\n",
       "      <th>15</th>\n",
       "      <td>601818.XSHG</td>\n",
       "      <td>1890.5000</td>\n",
       "      <td>6.46</td>\n",
       "      <td>2.327500e+10</td>\n",
       "    </tr>\n",
       "    <tr>\n",
       "      <th>16</th>\n",
       "      <td>601939.XSHG</td>\n",
       "      <td>13575.5996</td>\n",
       "      <td>5.93</td>\n",
       "      <td>1.486750e+11</td>\n",
       "    </tr>\n",
       "    <tr>\n",
       "      <th>17</th>\n",
       "      <td>601988.XSHG</td>\n",
       "      <td>11451.6904</td>\n",
       "      <td>6.71</td>\n",
       "      <td>1.181210e+11</td>\n",
       "    </tr>\n",
       "    <tr>\n",
       "      <th>18</th>\n",
       "      <td>601998.XSHG</td>\n",
       "      <td>2942.9199</td>\n",
       "      <td>7.14</td>\n",
       "      <td>3.704600e+10</td>\n",
       "    </tr>\n",
       "  </tbody>\n",
       "</table>\n",
       "</div>"
      ],
      "text/plain": [
       "           code  market_cap  pe_ratio  total_operating_revenue\n",
       "0   000001.XSHE   1598.2800      7.50             2.590400e+10\n",
       "1   000002.XSHE   1493.9100      9.47             4.137246e+10\n",
       "2   000333.XSHE   1173.9200      9.61             4.030065e+10\n",
       "3   000651.XSHE   1049.7500      7.41             2.651671e+10\n",
       "4   600000.XSHG   2965.8999      6.14             3.771000e+10\n",
       "5   600016.XSHG   3137.7400      6.86             4.087200e+10\n",
       "6   600030.XSHG   1904.7800      9.65             2.117836e+10\n",
       "7   600036.XSHG   4625.3198      7.92             5.338800e+10\n",
       "8   600104.XSHG   1959.2400      6.86             1.537495e+11\n",
       "9   600606.XSHG   1844.6899   -243.86             8.609665e+10\n",
       "10  601166.XSHG   2894.0500      5.86             3.805100e+10\n",
       "11  601288.XSHG  10166.0596      5.66             1.347040e+11\n",
       "12  601328.XSHG   4678.5498      7.05             4.731700e+10\n",
       "13  601398.XSHG  16002.6396      5.78             1.750780e+11\n",
       "14  601668.XSHG   1869.0000      7.63             2.199666e+11\n",
       "15  601818.XSHG   1890.5000      6.46             2.327500e+10\n",
       "16  601939.XSHG  13575.5996      5.93             1.486750e+11\n",
       "17  601988.XSHG  11451.6904      6.71             1.181210e+11\n",
       "18  601998.XSHG   2942.9199      7.14             3.704600e+10"
      ]
     },
     "execution_count": 16,
     "metadata": {},
     "output_type": "execute_result"
    }
   ],
   "source": [
    "# 选出所有的总市值大于1000亿元, 市盈率小于10, 营业总收入大于200亿元的股票\n",
    "df = get_fundamentals(query(\n",
    "        valuation.code, valuation.market_cap, valuation.pe_ratio, income.total_operating_revenue\n",
    "    ).filter(\n",
    "        valuation.market_cap > 1000,\n",
    "        valuation.pe_ratio < 10,\n",
    "        income.total_operating_revenue > 2e10\n",
    "    ), date='2019-10-15')\n",
    "\n",
    "df"
   ]
  },
  {
   "cell_type": "code",
   "execution_count": 14,
   "metadata": {
    "collapsed": false
   },
   "outputs": [],
   "source": [
    "# 在回测环境中可用: 选取上面的结果作为universe\n",
    "# set_universe(list(df['code']))"
   ]
  }
 ],
 "metadata": {
  "kernelspec": {
   "display_name": "Python 3.7.5 64-bit",
   "language": "python",
   "name": "python37564bit5307efeb92474673af7a58ac41b8c62b"
  },
  "language_info": {
   "codemirror_mode": {
    "name": "ipython",
    "version": 2
   },
   "file_extension": ".py",
   "mimetype": "text/x-python",
   "name": "python",
   "nbconvert_exporter": "python",
   "pygments_lexer": "ipython2",
   "version": "3.7.5-final"
  }
 },
 "nbformat": 4,
 "nbformat_minor": 0
}